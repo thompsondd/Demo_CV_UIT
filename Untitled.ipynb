{
 "cells": [
  {
   "cell_type": "code",
   "execution_count": 1,
   "id": "3f5ea3e9",
   "metadata": {},
   "outputs": [],
   "source": [
    "import joblib"
   ]
  },
  {
   "cell_type": "code",
   "execution_count": 5,
   "id": "e1cffee2",
   "metadata": {},
   "outputs": [],
   "source": [
    "encoder_ = r\"C:\\Users\\Dang\\Desktop\\Demo_CV\\model_and_encoder\\encoder_hog.pkl\"\n",
    "encoder = joblib.load(open(encoder_, 'rb'))"
   ]
  },
  {
   "cell_type": "code",
   "execution_count": 6,
   "id": "fed0030c",
   "metadata": {},
   "outputs": [
    {
     "data": {
      "text/plain": [
       "LabelEncoder()"
      ]
     },
     "execution_count": 6,
     "metadata": {},
     "output_type": "execute_result"
    }
   ],
   "source": [
    "encoder"
   ]
  },
  {
   "cell_type": "code",
   "execution_count": 8,
   "id": "40fe361c",
   "metadata": {},
   "outputs": [
    {
     "data": {
      "text/plain": [
       "array(['Agaricomycetes', 'Arthoniomycetes', 'Atractiellomycetes',\n",
       "       'Dacrymycetes', 'Dothideomycetes', 'Eurotiomycetes',\n",
       "       'Exobasidiomycetes', 'Geoglossomycetes', 'Lecanoromycetes',\n",
       "       'Leotiomycetes', 'Microbotryomycetes', 'Mucoromycetes',\n",
       "       'Myxomycetes', 'Orbiliomycetes', 'Peronosporea', 'Pezizomycetes',\n",
       "       'Protosteliomycetes', 'Pucciniomycetes', 'Sordariomycetes',\n",
       "       'Taphrinomycetes', 'Tremellomycetes', 'Ustilaginomycetes'],\n",
       "      dtype=object)"
      ]
     },
     "execution_count": 8,
     "metadata": {},
     "output_type": "execute_result"
    }
   ],
   "source": [
    "encoder.classes_"
   ]
  },
  {
   "cell_type": "code",
   "execution_count": null,
   "id": "88b0196e",
   "metadata": {},
   "outputs": [],
   "source": []
  }
 ],
 "metadata": {
  "kernelspec": {
   "display_name": "Python 3 (ipykernel)",
   "language": "python",
   "name": "python3"
  },
  "language_info": {
   "codemirror_mode": {
    "name": "ipython",
    "version": 3
   },
   "file_extension": ".py",
   "mimetype": "text/x-python",
   "name": "python",
   "nbconvert_exporter": "python",
   "pygments_lexer": "ipython3",
   "version": "3.9.13"
  }
 },
 "nbformat": 4,
 "nbformat_minor": 5
}
